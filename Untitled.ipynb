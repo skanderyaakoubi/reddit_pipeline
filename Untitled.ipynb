{
 "cells": [
  {
   "cell_type": "code",
   "execution_count": 2,
   "id": "02d2f0d6",
   "metadata": {},
   "outputs": [],
   "source": [
    "USER_AGENT = \"skon by /u/Ok-Mode4110\"\n",
    "REDDIT_CLIENT_ID = \"QSNZNHJdo-uGehQOaW1xeA\"\n",
    "REDDIT_CLIENT_SECRET = \"0P1Z8qRxxlcWVdbYO7R1LITGkgu2kg\""
   ]
  },
  {
   "cell_type": "code",
   "execution_count": 3,
   "id": "cd4adf31",
   "metadata": {},
   "outputs": [],
   "source": [
    "import praw\n"
   ]
  },
  {
   "cell_type": "code",
   "execution_count": 4,
   "id": "049900ca",
   "metadata": {},
   "outputs": [],
   "source": [
    "reddit = praw.Reddit(\n",
    "            client_id=REDDIT_CLIENT_ID,\n",
    "            client_secret=REDDIT_CLIENT_SECRET,\n",
    "            user_agent=USER_AGENT\n",
    "        )"
   ]
  },
  {
   "cell_type": "code",
   "execution_count": 6,
   "id": "acbba8e3",
   "metadata": {},
   "outputs": [],
   "source": [
    "subreddit = reddit.subreddit(\"NLP\")\n",
    "posts_data = []"
   ]
  },
  {
   "cell_type": "code",
   "execution_count": 10,
   "id": "3306d4bf",
   "metadata": {},
   "outputs": [
    {
     "name": "stdout",
     "output_type": "stream",
     "text": [
      "This subreddit is about the PSYCHOLOGICAL TECHNIQUES created by Richard Bandler and John Grinder.\n"
     ]
    }
   ],
   "source": [
    " for submission in subreddit.hot(limit=5):\n",
    "        print(submission.title)\n",
    "        break\n",
    "      "
   ]
  },
  {
   "cell_type": "code",
   "execution_count": null,
   "id": "f834c61b",
   "metadata": {},
   "outputs": [],
   "source": []
  }
 ],
 "metadata": {
  "kernelspec": {
   "display_name": "Python 3 (ipykernel)",
   "language": "python",
   "name": "python3"
  },
  "language_info": {
   "codemirror_mode": {
    "name": "ipython",
    "version": 3
   },
   "file_extension": ".py",
   "mimetype": "text/x-python",
   "name": "python",
   "nbconvert_exporter": "python",
   "pygments_lexer": "ipython3",
   "version": "3.10.9"
  }
 },
 "nbformat": 4,
 "nbformat_minor": 5
}
